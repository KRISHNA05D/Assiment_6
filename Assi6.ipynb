{
 "cells": [
  {
   "cell_type": "markdown",
   "id": "222e4c54-4bd3-4bb9-a28d-227e20a7ffe6",
   "metadata": {},
   "source": [
    "Q.1\n",
    "Write a program to accept percentage from the user and display the grade according to the following criteria."
   ]
  },
  {
   "cell_type": "code",
   "execution_count": 2,
   "id": "e74a30fe-75a3-465e-9694-e803fdcbd7d5",
   "metadata": {},
   "outputs": [
    {
     "name": "stdin",
     "output_type": "stream",
     "text": [
      "Enter your Persentage 95\n"
     ]
    },
    {
     "name": "stdout",
     "output_type": "stream",
     "text": [
      "You obtain 'A' grade\n"
     ]
    }
   ],
   "source": [
    "Per=float(input('Enter your Persentage'))\n",
    "if Per>90:\n",
    "    print(\"You obtain 'A' grade\")\n",
    "elif Per<=90 and Per>80:\n",
    "    print(\"You obtain 'B' grade\")\n",
    "elif Per<=80 and Per>=60:\n",
    "    print(\"You obtain 'C' grade\")\n",
    "else:\n",
    "     print(\"You obtain 'D' grade\")"
   ]
  },
  {
   "cell_type": "markdown",
   "id": "533982a2-4573-4f15-8733-05d96bd9a673",
   "metadata": {},
   "source": [
    "Q.2 \n",
    "Write a program to accept the cost price of a bike and display the road tax to be paid according to the following criteria. "
   ]
  },
  {
   "cell_type": "code",
   "execution_count": 1,
   "id": "ebc4c395-8819-4985-b016-1da7430b8791",
   "metadata": {},
   "outputs": [
    {
     "name": "stdin",
     "output_type": "stream",
     "text": [
      "Enter the Cost Prise of bike 150000\n"
     ]
    },
    {
     "name": "stdout",
     "output_type": "stream",
     "text": [
      "You have to paid road tax about '15%'\n"
     ]
    }
   ],
   "source": [
    "C_prise=float(input(\"Enter the Cost Prise of bike\"))\n",
    "if C_prise>100000:\n",
    "    print(\"You have to paid road tax about '15%'\")\n",
    "elif C_prise<=100000 and C_prise>50000:\n",
    "    print(\"You have to paid road tax about '10%'\")\n",
    "else:\n",
    "    print(\"You have to paid road tax about '5%'\")"
   ]
  },
  {
   "cell_type": "markdown",
   "id": "a2f32c64-734d-499a-8f69-a8609554c487",
   "metadata": {},
   "source": [
    "Q.3 \n",
    "Accept any city from the user and display monuments of that city."
   ]
  },
  {
   "cell_type": "code",
   "execution_count": 3,
   "id": "65dc82a7-3c5b-4aa5-95c0-83f019c87c59",
   "metadata": {},
   "outputs": [
    {
     "name": "stdin",
     "output_type": "stream",
     "text": [
      "Enter city name Agra\n"
     ]
    },
    {
     "name": "stdout",
     "output_type": "stream",
     "text": [
      "The Monument here is 'Taj Mahal'\n"
     ]
    }
   ],
   "source": [
    "City=input(\"Enter city name\")\n",
    "if City=='Delhi':\n",
    "    print(\"The Monument here is 'Red fort'\")\n",
    "elif City=='Agra':\n",
    "    print(\"The Monument here is 'Taj Mahal'\")\n",
    "elif City=='Jaipur':\n",
    "    print(\"The Monument here is 'Hava Mahal'\")\n",
    "else:\n",
    "    print(\"You enter wrong city please try these[Delhi,Agra,Jaipur]\")"
   ]
  },
  {
   "cell_type": "markdown",
   "id": "86780319-168e-4bbd-85f9-091596f89518",
   "metadata": {},
   "source": [
    "Q.4 \n",
    "Check how many times a given number can be divided by 3 before it is less than or equal to 10."
   ]
  },
  {
   "cell_type": "code",
   "execution_count": 1,
   "id": "93c524f0-56d0-451a-96ab-480f4e9d398a",
   "metadata": {},
   "outputs": [
    {
     "name": "stdin",
     "output_type": "stream",
     "text": [
      "Enter the  1658\n"
     ]
    },
    {
     "name": "stdout",
     "output_type": "stream",
     "text": [
      "5 Times 1658 can divide by 3 before it is less than or equal to 10\n"
     ]
    }
   ],
   "source": [
    "num=int(input(\"Enter the \"))\n",
    "x=num\n",
    "count=0\n",
    "while num>=10:\n",
    "    num=num/3\n",
    "    count+=1\n",
    "print(count,'Times',x,'can divide by 3 before it is less than or equal to 10')"
   ]
  },
  {
   "cell_type": "markdown",
   "id": "797a8f1e-7e2e-4603-955e-889636d6748c",
   "metadata": {},
   "source": [
    "Q. 5\n",
    "Why and when to use while loop in python give a detailed description with example "
   ]
  },
  {
   "cell_type": "markdown",
   "id": "aa8126b6-0409-4797-b482-e9a625b3c30c",
   "metadata": {},
   "source": [
    "Why Use a while Loop in Python\n",
    "The while loop in Python is used when you want to repeat a block of code as long as a condition is true. Unlike the for loop, which iterates over a sequence of items, a while loop relies on a condition that is evaluated before each iteration. This makes the while loop particularly useful in scenarios where the number of iterations is not known beforehand and depends on dynamic conditions that may change during the loop's execution.\n",
    "\n",
    "When to Use a while Loop\n",
    "Indefinite Iteration: When the number of iterations is not predetermined, and you need to keep looping until a certain condition is met.\n",
    "User Input: When you need to repeatedly prompt the user for input until they provide a valid response.\n",
    "Event-Driven Looping: When the loop should continue running based on events or actions that occur during program execution.\n",
    "Condition-Based Termination: When the termination of the loop is based on the result of some computation or check that occurs within the loop body.\n",
    "Example of Using a while Loop\n",
    "Let's consider a practical example: a simple program that asks the user to guess a number between 1 and 10. The loop will continue until the user guesses the correct number.\n",
    "Explanation of the Example\n",
    "Initialization:\n",
    "\n",
    "random.randint(1, 10) generates a random number between 1 and 10, which the user needs to guess.\n",
    "guess is initialized to None to ensure the loop starts.\n",
    "Condition:\n",
    "\n",
    "while guess != target_number: keeps the loop running as long as the user's guess is not equal to the target number.\n",
    "User Input:\n",
    "\n",
    "Inside the loop, guess = int(input(\"Guess a number between 1 and 10: \")) prompts the user to enter a guess.\n",
    "Feedback and Loop Continuation:\n",
    "\n",
    "The if-elif-else statements provide feedback to the user based on their guess.\n",
    "If the guess is too low or too high, the loop continues, prompting the user to guess again.\n",
    "If the guess is correct, the loop exits and congratulates the user.\n",
    "Key Points to Remember\n",
    "Infinite Loops: Be cautious of conditions that can lead to infinite loops. Always ensure that the loop has a clear exit condition.\n",
    "Condition Updates: Ensure that the condition evaluated by the while loop is updated within the loop body to eventually terminate the loop.\n",
    "Use Cases: Prefer while loops for scenarios where the exact number of iterations is not known in advance and depends on dynamic conditions.\n",
    "Using while loops effectively can lead to more flexible and dynamic code, especially in cases where iteration depends on variable conditions rather than a fixed sequence or range."
   ]
  },
  {
   "cell_type": "code",
   "execution_count": 2,
   "id": "146f2a18-bc4d-4d44-b75e-7c16bcde6f42",
   "metadata": {},
   "outputs": [
    {
     "name": "stdin",
     "output_type": "stream",
     "text": [
      "Guess a number between 1 and 10:  5\n"
     ]
    },
    {
     "name": "stdout",
     "output_type": "stream",
     "text": [
      "Too low, try again!\n"
     ]
    },
    {
     "name": "stdin",
     "output_type": "stream",
     "text": [
      "Guess a number between 1 and 10:  8\n"
     ]
    },
    {
     "name": "stdout",
     "output_type": "stream",
     "text": [
      "Too high, try again!\n"
     ]
    },
    {
     "name": "stdin",
     "output_type": "stream",
     "text": [
      "Guess a number between 1 and 10:  6\n"
     ]
    },
    {
     "name": "stdout",
     "output_type": "stream",
     "text": [
      "Congratulations! You guessed the correct number.\n"
     ]
    }
   ],
   "source": [
    "import random\n",
    "\n",
    "# Generate a random number between 1 and 10\n",
    "target_number = random.randint(1, 10)\n",
    "guess = None\n",
    "\n",
    "# Prompt the user to guess until they get it right\n",
    "while guess != target_number:\n",
    "    guess = int(input(\"Guess a number between 1 and 10: \"))\n",
    "    \n",
    "    if guess < target_number:\n",
    "        print(\"Too low, try again!\")\n",
    "    elif guess > target_number:\n",
    "        print(\"Too high, try again!\")\n",
    "    else:\n",
    "        print(\"Congratulations! You guessed the correct number.\")\n"
   ]
  },
  {
   "cell_type": "markdown",
   "id": "7c445fff-08ce-4155-8809-732a48ccfdc0",
   "metadata": {},
   "source": [
    "Q.6 \n",
    "Use nested while loop to print 3 different pattern."
   ]
  },
  {
   "cell_type": "code",
   "execution_count": 4,
   "id": "d3fb36ea-56b4-4d53-9fd5-11d06d3b8b15",
   "metadata": {},
   "outputs": [
    {
     "name": "stdout",
     "output_type": "stream",
     "text": [
      "*\n",
      "**\n",
      "***\n",
      "****\n",
      "*****\n"
     ]
    }
   ],
   "source": [
    "#Right-Angled Triangle\n",
    "rows = 5\n",
    "i = 1\n",
    "\n",
    "while i <= rows:\n",
    "    j = 1\n",
    "    while j <= i:\n",
    "        print(\"*\", end=\"\")\n",
    "        j += 1\n",
    "    print()\n",
    "    i += 1\n"
   ]
  },
  {
   "cell_type": "code",
   "execution_count": 5,
   "id": "69364e63-6e73-4f28-8b28-eb6cdd6f9d5d",
   "metadata": {},
   "outputs": [
    {
     "name": "stdout",
     "output_type": "stream",
     "text": [
      "*****\n",
      "****\n",
      "***\n",
      "**\n",
      "*\n"
     ]
    }
   ],
   "source": [
    "#Inverted Right-Angled Triangle\n",
    "i=5\n",
    "while i> 0:\n",
    "    j=1\n",
    "    while j<=i:\n",
    "        print(\"*\",end=\"\")\n",
    "        j+=1\n",
    "    print()\n",
    "    i-=1"
   ]
  },
  {
   "cell_type": "code",
   "execution_count": 6,
   "id": "a9266b96-bac5-42d8-b883-f635764fded6",
   "metadata": {},
   "outputs": [
    {
     "name": "stdout",
     "output_type": "stream",
     "text": [
      "    *\n",
      "   ***\n",
      "  *****\n",
      " *******\n",
      "*********\n"
     ]
    }
   ],
   "source": [
    "#Pyramid\n",
    "rows = 5\n",
    "i = 1\n",
    "\n",
    "while i <= rows:\n",
    "    # Print leading spaces\n",
    "    spaces = rows - i\n",
    "    while spaces > 0:\n",
    "        print(\" \", end=\"\")\n",
    "        spaces -= 1\n",
    "    \n",
    "    # Print stars\n",
    "    stars = 2 * i - 1\n",
    "    j = 1\n",
    "    while j <= stars:\n",
    "        print(\"*\", end=\"\")\n",
    "        j += 1\n",
    "    \n",
    "    # Move to the next line\n",
    "    print()\n",
    "    i += 1"
   ]
  },
  {
   "cell_type": "markdown",
   "id": "4c9ebe79-359d-4983-a8e2-bcdde0779161",
   "metadata": {},
   "source": [
    "Q.7 Reverse a while loop to display numbers from 10 to 1."
   ]
  },
  {
   "cell_type": "code",
   "execution_count": 23,
   "id": "a8e38049-8e9d-436b-8cfb-7e2ccc27ad0a",
   "metadata": {},
   "outputs": [
    {
     "name": "stdout",
     "output_type": "stream",
     "text": [
      "10\n",
      "9\n",
      "8\n",
      "7\n",
      "6\n",
      "5\n",
      "4\n",
      "3\n",
      "2\n",
      "1\n"
     ]
    }
   ],
   "source": [
    "i=10\n",
    "while i>0:\n",
    "    \n",
    "    print(i)\n",
    "    i-=1"
   ]
  },
  {
   "cell_type": "markdown",
   "id": "aebf8359-e4d4-488b-863b-27d1b94ade58",
   "metadata": {},
   "source": [
    "Q.8 \n",
    "Reverse a while loop to display numbers from 10 to 1."
   ]
  },
  {
   "cell_type": "code",
   "execution_count": 24,
   "id": "5c097d08-8bee-4d15-8043-1e5c022e4ed2",
   "metadata": {},
   "outputs": [
    {
     "name": "stdout",
     "output_type": "stream",
     "text": [
      "10\n",
      "9\n",
      "8\n",
      "7\n",
      "6\n",
      "5\n",
      "4\n",
      "3\n",
      "2\n",
      "1\n"
     ]
    }
   ],
   "source": [
    "i=10\n",
    "while i>0:\n",
    "    \n",
    "    print(i)\n",
    "    i-=1"
   ]
  },
  {
   "cell_type": "code",
   "execution_count": null,
   "id": "afa56b15-7c75-4e7f-b816-a12b343e34e0",
   "metadata": {},
   "outputs": [],
   "source": []
  }
 ],
 "metadata": {
  "kernelspec": {
   "display_name": "Python 3 (ipykernel)",
   "language": "python",
   "name": "python3"
  },
  "language_info": {
   "codemirror_mode": {
    "name": "ipython",
    "version": 3
   },
   "file_extension": ".py",
   "mimetype": "text/x-python",
   "name": "python",
   "nbconvert_exporter": "python",
   "pygments_lexer": "ipython3",
   "version": "3.10.8"
  }
 },
 "nbformat": 4,
 "nbformat_minor": 5
}
